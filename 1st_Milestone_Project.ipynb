{
  "nbformat": 4,
  "nbformat_minor": 0,
  "metadata": {
    "colab": {
      "provenance": []
    },
    "kernelspec": {
      "name": "python3",
      "display_name": "Python 3"
    },
    "language_info": {
      "name": "python"
    }
  },
  "cells": [
    {
      "cell_type": "markdown",
      "source": [
        "Import clear output to remove previous displayed outputs"
      ],
      "metadata": {
        "id": "n91zdMrCBXoL"
      }
    },
    {
      "cell_type": "code",
      "execution_count": null,
      "metadata": {
        "id": "TjS2Z0CHI_Yi"
      },
      "outputs": [],
      "source": [
        "from IPython.display import clear_output"
      ]
    },
    {
      "cell_type": "markdown",
      "source": [
        "Function to display the board"
      ],
      "metadata": {
        "id": "4y5GoNhvBm6y"
      }
    },
    {
      "cell_type": "code",
      "source": [
        "def display_board(board):\n",
        "    clear_output()\n",
        "    print(board[7]+' | '+board[8]+' | '+board[9])\n",
        "    print('----------')\n",
        "    print(board[4]+' | '+board[5]+' | '+board[6])\n",
        "    print('----------')\n",
        "    print(board[1]+' | '+board[2]+' | '+board[3])\n"
      ],
      "metadata": {
        "id": "qoTG2CdjAZsS"
      },
      "execution_count": null,
      "outputs": []
    },
    {
      "cell_type": "markdown",
      "source": [
        "If the selected position is free return true"
      ],
      "metadata": {
        "id": "BxdVfb8CCQUf"
      }
    },
    {
      "cell_type": "code",
      "source": [
        "def space_check(board,position):\n",
        "  return board[position] == ' '"
      ],
      "metadata": {
        "id": "QU1RbzlmCKMd"
      },
      "execution_count": null,
      "outputs": []
    },
    {
      "cell_type": "markdown",
      "source": [
        "Function to get the position from user, verify whether in the required range and check whether the location is vacant"
      ],
      "metadata": {
        "id": "J_7_ugWDBsaa"
      }
    },
    {
      "cell_type": "code",
      "source": [
        "def position_choice(board):\n",
        "  position = 0\n",
        "\n",
        "  while position not in [1,2,3,4,5,6,7,8,9] or not space_check(board,position):\n",
        "    position = int(input('Choose a position (1-9): '))\n",
        "\n",
        "  return position"
      ],
      "metadata": {
        "id": "rIbH7aZeA_GE"
      },
      "execution_count": null,
      "outputs": []
    },
    {
      "cell_type": "markdown",
      "source": [
        "Get who is playing X and O"
      ],
      "metadata": {
        "id": "_zHeQIToCgYE"
      }
    },
    {
      "cell_type": "code",
      "source": [
        "def player_input():\n",
        "  marker = 'wrong'\n",
        "  while marker != 'X' and marker != 'O':\n",
        "    marker = input('Player 1, choose X or O: ')\n",
        "  if marker == 'X':\n",
        "    return ('X','O')\n",
        "  else:\n",
        "    return ('O','X')"
      ],
      "metadata": {
        "id": "SDDNE_wiDjb3"
      },
      "execution_count": null,
      "outputs": []
    },
    {
      "cell_type": "markdown",
      "source": [
        "Position the new X or O from the user in the board"
      ],
      "metadata": {
        "id": "b4HkopwkCqie"
      }
    },
    {
      "cell_type": "code",
      "source": [
        "def replacement_choice(board,marker,position):\n",
        "  board[position] = marker\n",
        "  return board"
      ],
      "metadata": {
        "id": "3xOIty2SF_6h"
      },
      "execution_count": null,
      "outputs": []
    },
    {
      "cell_type": "markdown",
      "source": [
        "Check whether there is a win situation with the new input, if so return true else false"
      ],
      "metadata": {
        "id": "4uyt0LdrC6iI"
      }
    },
    {
      "cell_type": "code",
      "source": [
        "def win_check(board,mark):\n",
        "  return((board[1] == board[2] == board[3] == mark) or\n",
        "         (board[4] == board[5] == board[6] == mark) or\n",
        "         (board[7] == board[8] == board[9] == mark) or\n",
        "         (board[1] == board[4] == board[7] == mark) or\n",
        "         (board[2] == board[5] == board[8] == mark) or\n",
        "         (board[3] == board[6] == board[9] == mark) or\n",
        "         (board[1] == board[5] == board[9] == mark) or\n",
        "         (board[3] == board[5] == board[7] == mark)\n",
        "         )\n"
      ],
      "metadata": {
        "id": "EPGRcqFmHVlo"
      },
      "execution_count": null,
      "outputs": []
    },
    {
      "cell_type": "markdown",
      "source": [
        "Function to check the full board for free slots. If there are no free slots return true and it means board is full"
      ],
      "metadata": {
        "id": "2bIkYBSDDIeE"
      }
    },
    {
      "cell_type": "code",
      "source": [
        "def full_board_check(board):\n",
        "  for item in board:\n",
        "    if item == ' ':\n",
        "      return False\n",
        "    else:\n",
        "      pass\n",
        "  return True"
      ],
      "metadata": {
        "id": "RYnrdp1ZpVXK"
      },
      "execution_count": null,
      "outputs": []
    },
    {
      "cell_type": "markdown",
      "source": [
        "Function to check whether users want to play the Game again."
      ],
      "metadata": {
        "id": "aBxhfYCuDhwO"
      }
    },
    {
      "cell_type": "code",
      "source": [
        "def replay():\n",
        "  choice = 'wrong'\n",
        "  while choice not in ['Y','N']:\n",
        "    choice = input(\"Want to replay Pick yes or no ('Y','N'): \")\n",
        "    if choice not in ['Y','N']:\n",
        "      print(\"Sorry, invalid choice please enter Y or N ! \")\n",
        "  if choice == 'Y':\n",
        "    return True\n",
        "  else:\n",
        "    return False"
      ],
      "metadata": {
        "id": "QZZrGQU3JBGZ"
      },
      "execution_count": null,
      "outputs": []
    },
    {
      "cell_type": "markdown",
      "source": [
        "Function to choose which player will play first"
      ],
      "metadata": {
        "id": "xRYLv6ZnDtOP"
      }
    },
    {
      "cell_type": "code",
      "source": [
        "import random\n",
        "\n",
        "def choose_first():\n",
        "  if random.randint(1,2) == 1:\n",
        "    return 'Player 1'\n",
        "  else:\n",
        "    return 'Player 2'\n",
        "\n"
      ],
      "metadata": {
        "id": "EZhaUphnHFL6"
      },
      "execution_count": null,
      "outputs": []
    },
    {
      "cell_type": "markdown",
      "source": [
        "When the whole program put together"
      ],
      "metadata": {
        "id": "sQ0hfKXjECmk"
      }
    },
    {
      "cell_type": "code",
      "source": [
        "while True:\n",
        "  test_board = ['#',' ',' ',' ',' ',' ',' ',' ',' ',' ']\n",
        "  player_1 , player_2 = player_input()\n",
        "  turn = choose_first()\n",
        "  print(turn + ' will go first')\n",
        "\n",
        "  play_game = input('Ready to play? Y or N')\n",
        "\n",
        "  if play_game == 'Y':\n",
        "    game_on = True\n",
        "  else:\n",
        "    game_on = False\n",
        "\n",
        "\n",
        "  while game_on:\n",
        "    if turn == 'Player 1':\n",
        "      display_board(test_board)\n",
        "      position = position_choice(test_board)\n",
        "      test_board = replacement_choice(test_board,player_1,position)\n",
        "\n",
        "      if win_check(test_board,player_1):\n",
        "        display_board(test_board)\n",
        "        print('Player 1 has won!!')\n",
        "        game_on = False\n",
        "\n",
        "      else:\n",
        "        if full_board_check(test_board):\n",
        "          display_board(test_board)\n",
        "          print('The game is a draw')\n",
        "          break\n",
        "        else:\n",
        "          turn = 'Player 2'\n",
        "\n",
        "    else:\n",
        "      display_board(test_board)\n",
        "      position = position_choice(test_board)\n",
        "      test_board = replacement_choice(test_board,player_2,position)\n",
        "\n",
        "      if win_check(test_board,player_2):\n",
        "        display_board(test_board)\n",
        "        print('Player 2 has won!!')\n",
        "        game_on = False\n",
        "\n",
        "      else:\n",
        "        if full_board_check(test_board):\n",
        "          display_board(test_board)\n",
        "          print('The game is a draw')\n",
        "          break\n",
        "        else:\n",
        "          turn = 'Player 1'\n",
        "\n",
        "  if not replay():\n",
        "    break"
      ],
      "metadata": {
        "id": "1vIDp6zVuPXq"
      },
      "execution_count": null,
      "outputs": []
    },
    {
      "cell_type": "code",
      "source": [],
      "metadata": {
        "id": "-kiAL3arPgzT"
      },
      "execution_count": null,
      "outputs": []
    },
    {
      "cell_type": "code",
      "source": [],
      "metadata": {
        "id": "I4zMvJMNPhIw"
      },
      "execution_count": null,
      "outputs": []
    }
  ]
}